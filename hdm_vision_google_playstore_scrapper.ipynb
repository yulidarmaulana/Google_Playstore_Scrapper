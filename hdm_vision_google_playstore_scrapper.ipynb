{
  "nbformat": 4,
  "nbformat_minor": 0,
  "metadata": {
    "colab": {
      "name": "hdm_vision_google_playstore_scrapper.ipynb",
      "provenance": [],
      "collapsed_sections": [],
      "include_colab_link": true
    },
    "kernelspec": {
      "name": "python3",
      "display_name": "Python 3"
    },
    "language_info": {
      "name": "python"
    }
  },
  "cells": [
    {
      "cell_type": "markdown",
      "metadata": {
        "id": "view-in-github",
        "colab_type": "text"
      },
      "source": [
        "<a href=\"https://colab.research.google.com/github/yulidarmaulana/Google_Playstore_Scrapper/blob/main/hdm_vision_google_playstore_scrapper.ipynb\" target=\"_parent\"><img src=\"https://colab.research.google.com/assets/colab-badge.svg\" alt=\"Open In Colab\"/></a>"
      ]
    },
    {
      "cell_type": "code",
      "metadata": {
        "id": "2DnwN8kziiHQ",
        "colab": {
          "base_uri": "https://localhost:8080/"
        },
        "outputId": "d2e78473-2443-4078-8302-25c026a18def"
      },
      "source": [
        "#Referensi: https://www.linkedin.com/pulse/how-scrape-google-play-reviews-4-simple-steps-using-python-kundi/\n",
        "\n",
        "!pip install google-play-scraper"
      ],
      "execution_count": null,
      "outputs": [
        {
          "output_type": "stream",
          "name": "stdout",
          "text": [
            "Collecting google-play-scraper\n",
            "  Downloading google-play-scraper-1.0.3.tar.gz (52 kB)\n",
            "\u001b[?25l\r\u001b[K     |██████▏                         | 10 kB 19.2 MB/s eta 0:00:01\r\u001b[K     |████████████▍                   | 20 kB 9.6 MB/s eta 0:00:01\r\u001b[K     |██████████████████▋             | 30 kB 7.7 MB/s eta 0:00:01\r\u001b[K     |████████████████████████▉       | 40 kB 3.5 MB/s eta 0:00:01\r\u001b[K     |███████████████████████████████ | 51 kB 4.0 MB/s eta 0:00:01\r\u001b[K     |████████████████████████████████| 52 kB 1.0 MB/s \n",
            "\u001b[?25hBuilding wheels for collected packages: google-play-scraper\n",
            "  Building wheel for google-play-scraper (setup.py) ... \u001b[?25l\u001b[?25hdone\n",
            "  Created wheel for google-play-scraper: filename=google_play_scraper-1.0.3-py3-none-any.whl size=24394 sha256=29add843654afc0416a73374257bf14b75bb02908c95efa2cf150d724d3b31e4\n",
            "  Stored in directory: /root/.cache/pip/wheels/81/37/0b/4a14be55b449a048cd93d79930b1a980dee7896480defa1923\n",
            "Successfully built google-play-scraper\n",
            "Installing collected packages: google-play-scraper\n",
            "Successfully installed google-play-scraper-1.0.3\n"
          ]
        }
      ]
    },
    {
      "cell_type": "code",
      "metadata": {
        "id": "e9klApCuGeKQ"
      },
      "source": [
        "from google_play_scraper import app\n",
        "\n",
        "import pandas as pd\n",
        "\n",
        "import numpy as np"
      ],
      "execution_count": null,
      "outputs": []
    },
    {
      "cell_type": "code",
      "metadata": {
        "id": "JW2U_I52Gg9n"
      },
      "source": [
        "# Scrape All available reviews \n",
        "#(DONT RUN THIS CELL!!! RUN ONLY IF YOU WANT TO SCRAPE ALL AVAILABLE REVIEWS)\n",
        "#JANGAN DI RUN KODE INI, KECUALI ANDA INGIN SCRAPE SEMUA REVIEWS SEKALIGUS\n",
        "\n",
        "from google_play_scraper import Sort, reviews_all\n",
        "\n",
        "result = reviews_all(\n",
        "    'com.bukalapak.android',\n",
        "    sleep_milliseconds=0, # defaults to 0\n",
        "    lang='id', # defaults to 'en'\n",
        "    country='id', # defaults to 'us'\n",
        "    sort=Sort.NEWEST, # defaults to Sort.MOST_RELEVANT , you can use Sort.NEWEST to get newst reviews\n",
        ")\n"
      ],
      "execution_count": null,
      "outputs": []
    },
    {
      "cell_type": "code",
      "metadata": {
        "id": "IyazUxVxKCEB"
      },
      "source": [
        "#Scrape desired number of reviews\n",
        "#Run kode ini jika ingin scrape data dengan jumlah tertentu. Ganti (misal, ingin scrape sejumlah 1000, maka ganti kode , count = 1000 )\n",
        "\n",
        "from google_play_scraper import Sort, reviews\n",
        "\n",
        "result, continuation_token = reviews(\n",
        "    'com.miHoYo.GenshinImpact',\n",
        "    lang='id', # defaults to 'en'\n",
        "    country='id', # defaults to 'us'\n",
        "    sort=Sort.MOST_RELEVANT, # defaults to Sort.MOST_RELEVANT you can use Sort.NEWEST to get newst reviews\n",
        "    count=100, # defaults to 100\n",
        "    filter_score_with=None # defaults to None(means all score) Use 1 or 2 or 3 or 4 or 5 to select certain score\n",
        ")"
      ],
      "execution_count": null,
      "outputs": []
    },
    {
      "cell_type": "code",
      "metadata": {
        "id": "8ebsnHrfHWig",
        "colab": {
          "base_uri": "https://localhost:8080/",
          "height": 394
        },
        "outputId": "9f6ebef4-845b-43b4-aaa0-4e1006f8fbab"
      },
      "source": [
        "df_busu = pd.DataFrame(np.array(result),columns=['review'])\n",
        "\n",
        "df_busu = df_busu.join(pd.DataFrame(df_busu.pop('review').tolist()))\n",
        "\n",
        "df_busu.head()"
      ],
      "execution_count": null,
      "outputs": [
        {
          "output_type": "execute_result",
          "data": {
            "text/html": [
              "<div>\n",
              "<style scoped>\n",
              "    .dataframe tbody tr th:only-of-type {\n",
              "        vertical-align: middle;\n",
              "    }\n",
              "\n",
              "    .dataframe tbody tr th {\n",
              "        vertical-align: top;\n",
              "    }\n",
              "\n",
              "    .dataframe thead th {\n",
              "        text-align: right;\n",
              "    }\n",
              "</style>\n",
              "<table border=\"1\" class=\"dataframe\">\n",
              "  <thead>\n",
              "    <tr style=\"text-align: right;\">\n",
              "      <th></th>\n",
              "      <th>reviewId</th>\n",
              "      <th>userName</th>\n",
              "      <th>userImage</th>\n",
              "      <th>content</th>\n",
              "      <th>score</th>\n",
              "      <th>thumbsUpCount</th>\n",
              "      <th>reviewCreatedVersion</th>\n",
              "      <th>at</th>\n",
              "      <th>replyContent</th>\n",
              "      <th>repliedAt</th>\n",
              "    </tr>\n",
              "  </thead>\n",
              "  <tbody>\n",
              "    <tr>\n",
              "      <th>0</th>\n",
              "      <td>gp:AOqpTOFQSjU-94SKQ3WW4Z2Qk8sVSR3qVUlbCc1cUJ2...</td>\n",
              "      <td>Ananda Reyhan Saputra</td>\n",
              "      <td>https://play-lh.googleusercontent.com/a-/AOh14...</td>\n",
              "      <td>Keren, bagus beut!! Bikin addict wkwkw Buat ka...</td>\n",
              "      <td>5</td>\n",
              "      <td>78</td>\n",
              "      <td>2.2.0_4340077_4464168</td>\n",
              "      <td>2021-11-12 13:19:06</td>\n",
              "      <td>None</td>\n",
              "      <td>NaT</td>\n",
              "    </tr>\n",
              "    <tr>\n",
              "      <th>1</th>\n",
              "      <td>gp:AOqpTOGRdrwh_VZrbAqdOMqrGFabQAI4MqGPO7Vz4M7...</td>\n",
              "      <td>Vian Tegar</td>\n",
              "      <td>https://play-lh.googleusercontent.com/a-/AOh14...</td>\n",
              "      <td>Gamenya bagus, tapi saya tidak bisa membayangk...</td>\n",
              "      <td>2</td>\n",
              "      <td>55</td>\n",
              "      <td>2.2.0_4340077_4464168</td>\n",
              "      <td>2021-11-12 11:11:16</td>\n",
              "      <td>None</td>\n",
              "      <td>NaT</td>\n",
              "    </tr>\n",
              "    <tr>\n",
              "      <th>2</th>\n",
              "      <td>gp:AOqpTOHH9khVhFsHHN3zQRlu72EcsA7Pv2br7L4Kax6...</td>\n",
              "      <td>IWAN SETIAWAN</td>\n",
              "      <td>https://play-lh.googleusercontent.com/a-/AOh14...</td>\n",
              "      <td>tambahkan fitur agar item dari monster atau pe...</td>\n",
              "      <td>5</td>\n",
              "      <td>134</td>\n",
              "      <td>2.1.0_3981765_4073622</td>\n",
              "      <td>2021-11-10 05:15:09</td>\n",
              "      <td>None</td>\n",
              "      <td>NaT</td>\n",
              "    </tr>\n",
              "    <tr>\n",
              "      <th>3</th>\n",
              "      <td>gp:AOqpTOERAiz4Iij9D7XbYqwOipXbyOXOoJT1tkI1ISF...</td>\n",
              "      <td>Dimas Setya Aji</td>\n",
              "      <td>https://play-lh.googleusercontent.com/a-/AOh14...</td>\n",
              "      <td>Masukan aja sih untuk pengaturan daily quest d...</td>\n",
              "      <td>5</td>\n",
              "      <td>6</td>\n",
              "      <td>2.2.0_4340077_4464168</td>\n",
              "      <td>2021-11-12 01:23:29</td>\n",
              "      <td>None</td>\n",
              "      <td>NaT</td>\n",
              "    </tr>\n",
              "    <tr>\n",
              "      <th>4</th>\n",
              "      <td>gp:AOqpTOFe_MkE2BJSAWgtMPDZ11TWeOCG86642Qj8Ahl...</td>\n",
              "      <td>Yatna_The_Kid</td>\n",
              "      <td>https://play-lh.googleusercontent.com/a-/AOh14...</td>\n",
              "      <td>GATCHA IMPACT!!!!!!!!!!!!!!!!!!!!!!!!!!!!!!!!!...</td>\n",
              "      <td>2</td>\n",
              "      <td>0</td>\n",
              "      <td>2.2.0_4340077_4464168</td>\n",
              "      <td>2021-11-13 16:57:35</td>\n",
              "      <td>None</td>\n",
              "      <td>NaT</td>\n",
              "    </tr>\n",
              "  </tbody>\n",
              "</table>\n",
              "</div>"
            ],
            "text/plain": [
              "                                            reviewId  ... repliedAt\n",
              "0  gp:AOqpTOFQSjU-94SKQ3WW4Z2Qk8sVSR3qVUlbCc1cUJ2...  ...       NaT\n",
              "1  gp:AOqpTOGRdrwh_VZrbAqdOMqrGFabQAI4MqGPO7Vz4M7...  ...       NaT\n",
              "2  gp:AOqpTOHH9khVhFsHHN3zQRlu72EcsA7Pv2br7L4Kax6...  ...       NaT\n",
              "3  gp:AOqpTOERAiz4Iij9D7XbYqwOipXbyOXOoJT1tkI1ISF...  ...       NaT\n",
              "4  gp:AOqpTOFe_MkE2BJSAWgtMPDZ11TWeOCG86642Qj8Ahl...  ...       NaT\n",
              "\n",
              "[5 rows x 10 columns]"
            ]
          },
          "metadata": {},
          "execution_count": 20
        }
      ]
    },
    {
      "cell_type": "code",
      "metadata": {
        "id": "md7wsC6fIUUH",
        "colab": {
          "base_uri": "https://localhost:8080/"
        },
        "outputId": "17782a8c-bd62-4af0-f573-b8d347e7a172"
      },
      "source": [
        "len(df_busu.index) #count the number of data we got"
      ],
      "execution_count": null,
      "outputs": [
        {
          "output_type": "execute_result",
          "data": {
            "text/plain": [
              "100"
            ]
          },
          "metadata": {},
          "execution_count": 21
        }
      ]
    },
    {
      "cell_type": "code",
      "metadata": {
        "id": "JbtEy0IPHeIO",
        "colab": {
          "base_uri": "https://localhost:8080/",
          "height": 204
        },
        "outputId": "3660582d-6772-4b34-b623-7324b986c0d9"
      },
      "source": [
        "df_busu[['userName', 'score','at', 'content']].head()  #preview userName, rating, date-time, and reviews only"
      ],
      "execution_count": null,
      "outputs": [
        {
          "output_type": "execute_result",
          "data": {
            "text/html": [
              "<div>\n",
              "<style scoped>\n",
              "    .dataframe tbody tr th:only-of-type {\n",
              "        vertical-align: middle;\n",
              "    }\n",
              "\n",
              "    .dataframe tbody tr th {\n",
              "        vertical-align: top;\n",
              "    }\n",
              "\n",
              "    .dataframe thead th {\n",
              "        text-align: right;\n",
              "    }\n",
              "</style>\n",
              "<table border=\"1\" class=\"dataframe\">\n",
              "  <thead>\n",
              "    <tr style=\"text-align: right;\">\n",
              "      <th></th>\n",
              "      <th>userName</th>\n",
              "      <th>score</th>\n",
              "      <th>at</th>\n",
              "      <th>content</th>\n",
              "    </tr>\n",
              "  </thead>\n",
              "  <tbody>\n",
              "    <tr>\n",
              "      <th>0</th>\n",
              "      <td>Ananda Reyhan Saputra</td>\n",
              "      <td>5</td>\n",
              "      <td>2021-11-12 13:19:06</td>\n",
              "      <td>Keren, bagus beut!! Bikin addict wkwkw Buat ka...</td>\n",
              "    </tr>\n",
              "    <tr>\n",
              "      <th>1</th>\n",
              "      <td>Vian Tegar</td>\n",
              "      <td>2</td>\n",
              "      <td>2021-11-12 11:11:16</td>\n",
              "      <td>Gamenya bagus, tapi saya tidak bisa membayangk...</td>\n",
              "    </tr>\n",
              "    <tr>\n",
              "      <th>2</th>\n",
              "      <td>IWAN SETIAWAN</td>\n",
              "      <td>5</td>\n",
              "      <td>2021-11-10 05:15:09</td>\n",
              "      <td>tambahkan fitur agar item dari monster atau pe...</td>\n",
              "    </tr>\n",
              "    <tr>\n",
              "      <th>3</th>\n",
              "      <td>Dimas Setya Aji</td>\n",
              "      <td>5</td>\n",
              "      <td>2021-11-12 01:23:29</td>\n",
              "      <td>Masukan aja sih untuk pengaturan daily quest d...</td>\n",
              "    </tr>\n",
              "    <tr>\n",
              "      <th>4</th>\n",
              "      <td>Yatna_The_Kid</td>\n",
              "      <td>2</td>\n",
              "      <td>2021-11-13 16:57:35</td>\n",
              "      <td>GATCHA IMPACT!!!!!!!!!!!!!!!!!!!!!!!!!!!!!!!!!...</td>\n",
              "    </tr>\n",
              "  </tbody>\n",
              "</table>\n",
              "</div>"
            ],
            "text/plain": [
              "                userName  ...                                            content\n",
              "0  Ananda Reyhan Saputra  ...  Keren, bagus beut!! Bikin addict wkwkw Buat ka...\n",
              "1             Vian Tegar  ...  Gamenya bagus, tapi saya tidak bisa membayangk...\n",
              "2          IWAN SETIAWAN  ...  tambahkan fitur agar item dari monster atau pe...\n",
              "3        Dimas Setya Aji  ...  Masukan aja sih untuk pengaturan daily quest d...\n",
              "4          Yatna_The_Kid  ...  GATCHA IMPACT!!!!!!!!!!!!!!!!!!!!!!!!!!!!!!!!!...\n",
              "\n",
              "[5 rows x 4 columns]"
            ]
          },
          "metadata": {},
          "execution_count": 22
        }
      ]
    },
    {
      "cell_type": "code",
      "metadata": {
        "colab": {
          "base_uri": "https://localhost:8080/",
          "height": 204
        },
        "id": "1yVHXsZAsC79",
        "outputId": "347ca375-41af-4d60-e7d9-d3631798bce7"
      },
      "source": [
        "#Run This Code to Sort the Data By Date \n",
        "\n",
        "new_df = df_busu[['userName', 'score','at', 'content']]\n",
        "sorted_df = new_df.sort_values(by='at', ascending=False) #Sort by Newst, change to True if you want to sort by Oldest.\n",
        "sorted_df.head()"
      ],
      "execution_count": null,
      "outputs": [
        {
          "output_type": "execute_result",
          "data": {
            "text/html": [
              "<div>\n",
              "<style scoped>\n",
              "    .dataframe tbody tr th:only-of-type {\n",
              "        vertical-align: middle;\n",
              "    }\n",
              "\n",
              "    .dataframe tbody tr th {\n",
              "        vertical-align: top;\n",
              "    }\n",
              "\n",
              "    .dataframe thead th {\n",
              "        text-align: right;\n",
              "    }\n",
              "</style>\n",
              "<table border=\"1\" class=\"dataframe\">\n",
              "  <thead>\n",
              "    <tr style=\"text-align: right;\">\n",
              "      <th></th>\n",
              "      <th>userName</th>\n",
              "      <th>score</th>\n",
              "      <th>at</th>\n",
              "      <th>content</th>\n",
              "    </tr>\n",
              "  </thead>\n",
              "  <tbody>\n",
              "    <tr>\n",
              "      <th>22</th>\n",
              "      <td>Naomi xtl</td>\n",
              "      <td>1</td>\n",
              "      <td>2021-11-14 05:04:02</td>\n",
              "      <td>Akun saya ke reset sendiri pas mau masuk ke ge...</td>\n",
              "    </tr>\n",
              "    <tr>\n",
              "      <th>4</th>\n",
              "      <td>Yatna_The_Kid</td>\n",
              "      <td>2</td>\n",
              "      <td>2021-11-13 16:57:35</td>\n",
              "      <td>GATCHA IMPACT!!!!!!!!!!!!!!!!!!!!!!!!!!!!!!!!!...</td>\n",
              "    </tr>\n",
              "    <tr>\n",
              "      <th>11</th>\n",
              "      <td>AnnaPoppy Official Indonesia</td>\n",
              "      <td>4</td>\n",
              "      <td>2021-11-13 01:49:39</td>\n",
              "      <td>Bagus banget kol gamenya, tapi terdaoat bug ga...</td>\n",
              "    </tr>\n",
              "    <tr>\n",
              "      <th>35</th>\n",
              "      <td>Prisisca Yosi Odelia Sihombing</td>\n",
              "      <td>5</td>\n",
              "      <td>2021-11-12 17:02:27</td>\n",
              "      <td>Gamenya bgs sih, tapi gw stress nya di quest p...</td>\n",
              "    </tr>\n",
              "    <tr>\n",
              "      <th>93</th>\n",
              "      <td>Widya Pratama</td>\n",
              "      <td>5</td>\n",
              "      <td>2021-11-12 15:37:27</td>\n",
              "      <td>Bener-bener game RPG terbaik, berasa jadi Mc a...</td>\n",
              "    </tr>\n",
              "  </tbody>\n",
              "</table>\n",
              "</div>"
            ],
            "text/plain": [
              "                          userName  ...                                            content\n",
              "22                       Naomi xtl  ...  Akun saya ke reset sendiri pas mau masuk ke ge...\n",
              "4                    Yatna_The_Kid  ...  GATCHA IMPACT!!!!!!!!!!!!!!!!!!!!!!!!!!!!!!!!!...\n",
              "11    AnnaPoppy Official Indonesia  ...  Bagus banget kol gamenya, tapi terdaoat bug ga...\n",
              "35  Prisisca Yosi Odelia Sihombing  ...  Gamenya bgs sih, tapi gw stress nya di quest p...\n",
              "93                   Widya Pratama  ...  Bener-bener game RPG terbaik, berasa jadi Mc a...\n",
              "\n",
              "[5 rows x 4 columns]"
            ]
          },
          "metadata": {},
          "execution_count": 23
        }
      ]
    },
    {
      "cell_type": "code",
      "metadata": {
        "id": "yCUyHN58Pngt"
      },
      "source": [
        "my_df = sorted_df[['userName', 'score','at', 'content']] #get userName, rating, date-time, and reviews only"
      ],
      "execution_count": null,
      "outputs": []
    },
    {
      "cell_type": "code",
      "metadata": {
        "colab": {
          "base_uri": "https://localhost:8080/",
          "height": 204
        },
        "id": "L1FpkUiutQds",
        "outputId": "d309b85f-f47c-4c0e-9ab7-3dfd7d447856"
      },
      "source": [
        "my_df.head()"
      ],
      "execution_count": null,
      "outputs": [
        {
          "output_type": "execute_result",
          "data": {
            "text/html": [
              "<div>\n",
              "<style scoped>\n",
              "    .dataframe tbody tr th:only-of-type {\n",
              "        vertical-align: middle;\n",
              "    }\n",
              "\n",
              "    .dataframe tbody tr th {\n",
              "        vertical-align: top;\n",
              "    }\n",
              "\n",
              "    .dataframe thead th {\n",
              "        text-align: right;\n",
              "    }\n",
              "</style>\n",
              "<table border=\"1\" class=\"dataframe\">\n",
              "  <thead>\n",
              "    <tr style=\"text-align: right;\">\n",
              "      <th></th>\n",
              "      <th>userName</th>\n",
              "      <th>score</th>\n",
              "      <th>at</th>\n",
              "      <th>content</th>\n",
              "    </tr>\n",
              "  </thead>\n",
              "  <tbody>\n",
              "    <tr>\n",
              "      <th>22</th>\n",
              "      <td>Naomi xtl</td>\n",
              "      <td>1</td>\n",
              "      <td>2021-11-14 05:04:02</td>\n",
              "      <td>Akun saya ke reset sendiri pas mau masuk ke ge...</td>\n",
              "    </tr>\n",
              "    <tr>\n",
              "      <th>4</th>\n",
              "      <td>Yatna_The_Kid</td>\n",
              "      <td>2</td>\n",
              "      <td>2021-11-13 16:57:35</td>\n",
              "      <td>GATCHA IMPACT!!!!!!!!!!!!!!!!!!!!!!!!!!!!!!!!!...</td>\n",
              "    </tr>\n",
              "    <tr>\n",
              "      <th>11</th>\n",
              "      <td>AnnaPoppy Official Indonesia</td>\n",
              "      <td>4</td>\n",
              "      <td>2021-11-13 01:49:39</td>\n",
              "      <td>Bagus banget kol gamenya, tapi terdaoat bug ga...</td>\n",
              "    </tr>\n",
              "    <tr>\n",
              "      <th>35</th>\n",
              "      <td>Prisisca Yosi Odelia Sihombing</td>\n",
              "      <td>5</td>\n",
              "      <td>2021-11-12 17:02:27</td>\n",
              "      <td>Gamenya bgs sih, tapi gw stress nya di quest p...</td>\n",
              "    </tr>\n",
              "    <tr>\n",
              "      <th>93</th>\n",
              "      <td>Widya Pratama</td>\n",
              "      <td>5</td>\n",
              "      <td>2021-11-12 15:37:27</td>\n",
              "      <td>Bener-bener game RPG terbaik, berasa jadi Mc a...</td>\n",
              "    </tr>\n",
              "  </tbody>\n",
              "</table>\n",
              "</div>"
            ],
            "text/plain": [
              "                          userName  ...                                            content\n",
              "22                       Naomi xtl  ...  Akun saya ke reset sendiri pas mau masuk ke ge...\n",
              "4                    Yatna_The_Kid  ...  GATCHA IMPACT!!!!!!!!!!!!!!!!!!!!!!!!!!!!!!!!!...\n",
              "11    AnnaPoppy Official Indonesia  ...  Bagus banget kol gamenya, tapi terdaoat bug ga...\n",
              "35  Prisisca Yosi Odelia Sihombing  ...  Gamenya bgs sih, tapi gw stress nya di quest p...\n",
              "93                   Widya Pratama  ...  Bener-bener game RPG terbaik, berasa jadi Mc a...\n",
              "\n",
              "[5 rows x 4 columns]"
            ]
          },
          "metadata": {},
          "execution_count": 25
        }
      ]
    },
    {
      "cell_type": "code",
      "metadata": {
        "id": "ktGC3Q28PTBm"
      },
      "source": [
        "my_df.to_csv(\"scrapped_data.csv\", index = False)  #Save the file as CSV , to download: click the folder icon on the left. the csv file should be there."
      ],
      "execution_count": null,
      "outputs": []
    }
  ]
}